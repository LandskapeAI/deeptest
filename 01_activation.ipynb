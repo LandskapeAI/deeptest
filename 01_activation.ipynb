{
 "cells": [
  {
   "cell_type": "code",
   "execution_count": null,
   "metadata": {},
   "outputs": [],
   "source": [
    "#default_exp functional"
   ]
  },
  {
   "cell_type": "markdown",
   "metadata": {},
   "source": [
    "# Functional\n",
    "\n",
    "> Test function output values against Wolfram | Alpha"
   ]
  },
  {
   "cell_type": "code",
   "execution_count": null,
   "metadata": {},
   "outputs": [],
   "source": [
    "#export\n",
    "import wolframalpha\n",
    "from fastcore.test import *\n",
    "from torch import nn\n",
    "import torch\n",
    "import torch.nn.functional as F\n",
    "import re\n",
    "import os\n",
    "import json\n",
    "import numpy as np\n",
    "import pickle"
   ]
  },
  {
   "cell_type": "code",
   "execution_count": null,
   "metadata": {},
   "outputs": [],
   "source": [
    "#export\n",
    "class WolframTester():\n",
    "    \n",
    "    def __init__(self, api_key, libdl, cache_path = 'cache.pkl'):\n",
    "        self.key = api_key\n",
    "        self.libdl = libdl\n",
    "        self.cache_path = cache_path\n",
    "        self.cache = dict()\n",
    "        self.load_cache(cache_path)\n",
    "        \n",
    "    def query(self, expr):\n",
    "        client = wolframalpha.Client(self.key)\n",
    "        res = client.query(expr)\n",
    "        vals = list()\n",
    "        for pod in res.pods:\n",
    "            if pod['@title'] == 'Result':\n",
    "                val = float(pod['subpod']['plaintext'].split('...')[0])\n",
    "                vals.append(val)\n",
    "        \n",
    "        vals = np.around(np.array(val), 16)\n",
    "        return vals\n",
    "    \n",
    "    \n",
    "    def test(self, fn, fn_expr, xs, shape):\n",
    "        \n",
    "        if (fn_expr in self.cache):\n",
    "            self.test_cache(fn, fn_expr, xs, shape)\n",
    "            return\n",
    "    \n",
    "        if (self.libdl == 'torch'):\n",
    "            ys = fn(xs).cpu().numpy()\n",
    "            test_eq(ys.shape, shape)\n",
    "            _xs = xs.cpu().detach().numpy().flatten()\n",
    "        \n",
    "        reals = list()\n",
    "\n",
    "        for x in _xs:\n",
    "            expr = re.sub('x', str(x), fn_expr)\n",
    "            res = self.query(expr)\n",
    "            reals.append(res)\n",
    "        \n",
    "        reals = np.array(reals).reshape(shape)\n",
    "        np.testing.assert_allclose(ys, reals, rtol=1e-2, atol=1e-5)\n",
    "        \n",
    "        self.cache[fn_expr] = (xs, reals)\n",
    "        self.save_cache(self.cache_path)\n",
    "        \n",
    "    \n",
    "    def test_cache(self, fn, fn_expr, xs, shape):\n",
    "        xs, reals = self.cache[fn_expr]        \n",
    "        if (self.libdl == 'torch'):\n",
    "            ys = fn(xs).cpu().numpy()\n",
    "            ys = np.around(ys, 16)\n",
    "            test_eq(ys.shape, shape)\n",
    "            xs = xs.cpu().detach().numpy().flatten()\n",
    "        \n",
    "        np.testing.assert_allclose(ys, reals, rtol=1e-2, atol=1e-5)\n",
    "        \n",
    "        \n",
    "    def save_cache(self, path):\n",
    "        with open(path, 'wb') as f:\n",
    "            pickle.dump(self.cache, f, pickle.HIGHEST_PROTOCOL)\n",
    "            print(\"Stored Cache\")\n",
    "\n",
    "    def load_cache(self, path):\n",
    "        if not os.path.exists(path):\n",
    "            print(\"No cache found. Will initialize on next query.\")\n",
    "            return\n",
    "        with open(path, 'rb') as f:\n",
    "            self.cache = pickle.load(f)\n",
    "            print(\"Loaded Cache\")"
   ]
  },
  {
   "cell_type": "code",
   "execution_count": null,
   "metadata": {},
   "outputs": [],
   "source": [
    "function = torch.tanh\n",
    "xs = torch.tensor([[[[-10, -8, -6, -4, -2], [0, 2, 4, 6, 8]]]], dtype=torch.float32)\n",
    "shape = (1, 1, 2, 5)"
   ]
  },
  {
   "cell_type": "code",
   "execution_count": null,
   "metadata": {},
   "outputs": [
    {
     "name": "stdout",
     "output_type": "stream",
     "text": [
      "Loaded Cache\n"
     ]
    }
   ],
   "source": [
    "tester = WolframTester('QYU645-4EGHX3JVLE', 'torch')"
   ]
  },
  {
   "cell_type": "markdown",
   "metadata": {},
   "source": [
    "The first time the test function is executed, it queries the Wolfram API. This function call will be slow. "
   ]
  },
  {
   "cell_type": "code",
   "execution_count": null,
   "metadata": {},
   "outputs": [
    {
     "name": "stdout",
     "output_type": "stream",
     "text": [
      "Stored Cache\n",
      "CPU times: user 255 ms, sys: 46.2 ms, total: 302 ms\n",
      "Wall time: 31.1 s\n"
     ]
    }
   ],
   "source": [
    "%%time\n",
    "tester.test(function, 'tanh(x)', xs, shape)"
   ]
  },
  {
   "cell_type": "markdown",
   "metadata": {},
   "source": [
    "But now, the inputs and expected outputs are cached on disk in `.pkl` files."
   ]
  },
  {
   "cell_type": "code",
   "execution_count": null,
   "metadata": {},
   "outputs": [
    {
     "name": "stdout",
     "output_type": "stream",
     "text": [
      "cache.pkl\r\n"
     ]
    }
   ],
   "source": [
    "! ls *.pkl"
   ]
  },
  {
   "cell_type": "markdown",
   "metadata": {},
   "source": [
    "So subsequent function calls are much faster!"
   ]
  },
  {
   "cell_type": "code",
   "execution_count": null,
   "metadata": {},
   "outputs": [
    {
     "name": "stdout",
     "output_type": "stream",
     "text": [
      "CPU times: user 928 µs, sys: 794 µs, total: 1.72 ms\n",
      "Wall time: 2.53 ms\n"
     ]
    }
   ],
   "source": [
    "%%time\n",
    "tester.test(function, 'tanh(x)', xs, shape)"
   ]
  },
  {
   "cell_type": "markdown",
   "metadata": {},
   "source": [
    "## Piecewise Functions"
   ]
  },
  {
   "cell_type": "code",
   "execution_count": null,
   "metadata": {},
   "outputs": [
    {
     "name": "stdout",
     "output_type": "stream",
     "text": [
      "Stored Cache\n"
     ]
    }
   ],
   "source": [
    "tester.test(F.relu, 'Piecewise[{{0, t < 0 }, {x, t > 0}}] at t = x', xs, shape)"
   ]
  },
  {
   "cell_type": "code",
   "execution_count": null,
   "metadata": {},
   "outputs": [
    {
     "ename": "AssertionError",
     "evalue": "\nNot equal to tolerance rtol=0.01, atol=1e-05\n\nMismatched elements: 4 / 10 (40%)\nMax absolute difference: 2.\nMax relative difference: 0.5\n x: array([[[[0., 0., 0., 0., 0.],\n         [0., 2., 4., 6., 8.]]]], dtype=float32)\n y: array([[[[ 0.,  0.,  0.,  0.,  0.],\n         [ 0.,  4.,  6.,  8., 10.]]]])",
     "output_type": "error",
     "traceback": [
      "\u001b[0;31m---------------------------------------------------------------------------\u001b[0m",
      "\u001b[0;31mAssertionError\u001b[0m                            Traceback (most recent call last)",
      "\u001b[0;32m<ipython-input-10-9b691258286f>\u001b[0m in \u001b[0;36m<module>\u001b[0;34m\u001b[0m\n\u001b[0;32m----> 1\u001b[0;31m \u001b[0mtester\u001b[0m\u001b[0;34m.\u001b[0m\u001b[0mtest\u001b[0m\u001b[0;34m(\u001b[0m\u001b[0mF\u001b[0m\u001b[0;34m.\u001b[0m\u001b[0mrelu\u001b[0m\u001b[0;34m,\u001b[0m \u001b[0;34m'Piecewise[{{0, t < 0 }, {x + 2, t > 0}}] at t = x'\u001b[0m\u001b[0;34m,\u001b[0m \u001b[0mxs\u001b[0m\u001b[0;34m,\u001b[0m \u001b[0mshape\u001b[0m\u001b[0;34m)\u001b[0m\u001b[0;34m\u001b[0m\u001b[0;34m\u001b[0m\u001b[0m\n\u001b[0m",
      "\u001b[0;32m<ipython-input-3-9c0444309d1c>\u001b[0m in \u001b[0;36mtest\u001b[0;34m(self, fn, fn_expr, xs, shape)\u001b[0m\n\u001b[1;32m     41\u001b[0m \u001b[0;34m\u001b[0m\u001b[0m\n\u001b[1;32m     42\u001b[0m         \u001b[0mreals\u001b[0m \u001b[0;34m=\u001b[0m \u001b[0mnp\u001b[0m\u001b[0;34m.\u001b[0m\u001b[0marray\u001b[0m\u001b[0;34m(\u001b[0m\u001b[0mreals\u001b[0m\u001b[0;34m)\u001b[0m\u001b[0;34m.\u001b[0m\u001b[0mreshape\u001b[0m\u001b[0;34m(\u001b[0m\u001b[0mshape\u001b[0m\u001b[0;34m)\u001b[0m\u001b[0;34m\u001b[0m\u001b[0;34m\u001b[0m\u001b[0m\n\u001b[0;32m---> 43\u001b[0;31m         \u001b[0mnp\u001b[0m\u001b[0;34m.\u001b[0m\u001b[0mtesting\u001b[0m\u001b[0;34m.\u001b[0m\u001b[0massert_allclose\u001b[0m\u001b[0;34m(\u001b[0m\u001b[0mys\u001b[0m\u001b[0;34m,\u001b[0m \u001b[0mreals\u001b[0m\u001b[0;34m,\u001b[0m \u001b[0mrtol\u001b[0m\u001b[0;34m=\u001b[0m\u001b[0;36m1e-2\u001b[0m\u001b[0;34m,\u001b[0m \u001b[0matol\u001b[0m\u001b[0;34m=\u001b[0m\u001b[0;36m1e-5\u001b[0m\u001b[0;34m)\u001b[0m\u001b[0;34m\u001b[0m\u001b[0;34m\u001b[0m\u001b[0m\n\u001b[0m\u001b[1;32m     44\u001b[0m \u001b[0;34m\u001b[0m\u001b[0m\n\u001b[1;32m     45\u001b[0m         \u001b[0mself\u001b[0m\u001b[0;34m.\u001b[0m\u001b[0mcache\u001b[0m\u001b[0;34m[\u001b[0m\u001b[0mfn_expr\u001b[0m\u001b[0;34m]\u001b[0m \u001b[0;34m=\u001b[0m \u001b[0;34m(\u001b[0m\u001b[0mxs\u001b[0m\u001b[0;34m,\u001b[0m \u001b[0mreals\u001b[0m\u001b[0;34m)\u001b[0m\u001b[0;34m\u001b[0m\u001b[0;34m\u001b[0m\u001b[0m\n",
      "    \u001b[0;31m[... skipping hidden 1 frame]\u001b[0m\n",
      "\u001b[0;32m~/miniconda3/lib/python3.8/site-packages/numpy/testing/_private/utils.py\u001b[0m in \u001b[0;36massert_array_compare\u001b[0;34m(comparison, x, y, err_msg, verbose, header, precision, equal_nan, equal_inf)\u001b[0m\n\u001b[1;32m    844\u001b[0m                                 \u001b[0mverbose\u001b[0m\u001b[0;34m=\u001b[0m\u001b[0mverbose\u001b[0m\u001b[0;34m,\u001b[0m \u001b[0mheader\u001b[0m\u001b[0;34m=\u001b[0m\u001b[0mheader\u001b[0m\u001b[0;34m,\u001b[0m\u001b[0;34m\u001b[0m\u001b[0;34m\u001b[0m\u001b[0m\n\u001b[1;32m    845\u001b[0m                                 names=('x', 'y'), precision=precision)\n\u001b[0;32m--> 846\u001b[0;31m             \u001b[0;32mraise\u001b[0m \u001b[0mAssertionError\u001b[0m\u001b[0;34m(\u001b[0m\u001b[0mmsg\u001b[0m\u001b[0;34m)\u001b[0m\u001b[0;34m\u001b[0m\u001b[0;34m\u001b[0m\u001b[0m\n\u001b[0m\u001b[1;32m    847\u001b[0m     \u001b[0;32mexcept\u001b[0m \u001b[0mValueError\u001b[0m\u001b[0;34m:\u001b[0m\u001b[0;34m\u001b[0m\u001b[0;34m\u001b[0m\u001b[0m\n\u001b[1;32m    848\u001b[0m         \u001b[0;32mimport\u001b[0m \u001b[0mtraceback\u001b[0m\u001b[0;34m\u001b[0m\u001b[0;34m\u001b[0m\u001b[0m\n",
      "\u001b[0;31mAssertionError\u001b[0m: \nNot equal to tolerance rtol=0.01, atol=1e-05\n\nMismatched elements: 4 / 10 (40%)\nMax absolute difference: 2.\nMax relative difference: 0.5\n x: array([[[[0., 0., 0., 0., 0.],\n         [0., 2., 4., 6., 8.]]]], dtype=float32)\n y: array([[[[ 0.,  0.,  0.,  0.,  0.],\n         [ 0.,  4.,  6.,  8., 10.]]]])"
     ]
    }
   ],
   "source": [
    "tester.test(F.relu, 'Piecewise[{{0, t < 0 }, {x + 2, t > 0}}] at t = x', xs, shape)"
   ]
  },
  {
   "cell_type": "markdown",
   "metadata": {},
   "source": [
    "## Mish"
   ]
  },
  {
   "cell_type": "code",
   "execution_count": null,
   "metadata": {},
   "outputs": [],
   "source": [
    "from echoAI.Activation.t_ops import *"
   ]
  },
  {
   "cell_type": "code",
   "execution_count": null,
   "metadata": {},
   "outputs": [],
   "source": [
    "TEST_MISH = [\n",
    "    Mish(),\n",
    "    'x * tanh(log(1 + e^x))',\n",
    "    torch.tensor([[[[-10, -8, -6, -4, -2], [0, 2, 4, 6, 8]]]], dtype=torch.float32),\n",
    "    (1, 1, 2, 5),\n",
    "]"
   ]
  },
  {
   "cell_type": "code",
   "execution_count": null,
   "metadata": {},
   "outputs": [],
   "source": [
    "tester.test(*TEST_MISH)"
   ]
  },
  {
   "cell_type": "code",
   "execution_count": null,
   "metadata": {},
   "outputs": [
    {
     "data": {
      "text/plain": [
       "dict_keys(['x * tanh(log(1 + e^x))', 'tanh(x)', 'Piecewise[{{0, t < 0 }, {x, t > 0}}] at t = x'])"
      ]
     },
     "execution_count": null,
     "metadata": {},
     "output_type": "execute_result"
    }
   ],
   "source": [
    "tester.cache.keys()"
   ]
  }
 ],
 "metadata": {
  "kernelspec": {
   "display_name": "Python [conda env:root] *",
   "language": "python",
   "name": "conda-root-py"
  }
 },
 "nbformat": 4,
 "nbformat_minor": 4
}
